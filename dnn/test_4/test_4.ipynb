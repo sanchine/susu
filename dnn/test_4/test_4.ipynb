{
 "cells": [
  {
   "cell_type": "code",
   "execution_count": 274,
   "metadata": {},
   "outputs": [],
   "source": [
    "import numpy as np"
   ]
  },
  {
   "cell_type": "code",
   "execution_count": 275,
   "metadata": {},
   "outputs": [],
   "source": [
    "def sigmoid(x):\n",
    "    return 1 / (1 + np.exp(-x))"
   ]
  },
  {
   "cell_type": "code",
   "execution_count": 276,
   "metadata": {},
   "outputs": [],
   "source": [
    "def relu(x):\n",
    "    if x <= 0:\n",
    "        return 0\n",
    "    else:\n",
    "        return x"
   ]
  },
  {
   "cell_type": "code",
   "execution_count": 277,
   "metadata": {},
   "outputs": [],
   "source": [
    "X = np.array([[0.9, -0.7, 0.6, 0.5], [0.5, 0.7, 0, 0.4], [0.5, 0.1, -0.1, 0.9], [0.4, -0.6, 0.7, 0.1]])\n",
    "W = np.array([[1, 2], [2, -2]])\n",
    "b = np.array([0])"
   ]
  },
  {
   "cell_type": "code",
   "execution_count": 278,
   "metadata": {},
   "outputs": [],
   "source": [
    "n = X.shape[0] - W.shape[0] + 1"
   ]
  },
  {
   "cell_type": "code",
   "execution_count": 279,
   "metadata": {},
   "outputs": [],
   "source": [
    "A = np.zeros((n, n))"
   ]
  },
  {
   "cell_type": "code",
   "execution_count": 280,
   "metadata": {},
   "outputs": [],
   "source": [
    "for j in range(n):\n",
    "    for k in range(n):\n",
    "\n",
    "        potential = 0\n",
    "\n",
    "        for l in range(0, 2):\n",
    "            for h in range(0, 2):\n",
    "                potential += W[l, h] * X[j + l, k + h]\n",
    "\n",
    "        potential += b\n",
    "        A[j, k] = relu(potential)"
   ]
  },
  {
   "cell_type": "code",
   "execution_count": 281,
   "metadata": {},
   "outputs": [
    {
     "data": {
      "text/plain": [
       "12.099999999999998"
      ]
     },
     "execution_count": 281,
     "metadata": {},
     "output_type": "execute_result"
    }
   ],
   "source": [
    "np.sum(A)"
   ]
  },
  {
   "cell_type": "code",
   "execution_count": 282,
   "metadata": {},
   "outputs": [],
   "source": [
    "# TASK 2"
   ]
  },
  {
   "cell_type": "code",
   "execution_count": 283,
   "metadata": {},
   "outputs": [],
   "source": [
    "X_shape = 8\n",
    "slider_shape = 4\n",
    "num_layers = 10\n"
   ]
  },
  {
   "cell_type": "code",
   "execution_count": 284,
   "metadata": {},
   "outputs": [
    {
     "data": {
      "text/plain": [
       "4000"
      ]
     },
     "execution_count": 284,
     "metadata": {},
     "output_type": "execute_result"
    }
   ],
   "source": [
    "map_shape = X_shape - slider_shape + 1\n",
    "neurons_quantity = (slider_shape ** 2) * (map_shape ** 2) * num_layers\n",
    "neurons_quantity"
   ]
  },
  {
   "cell_type": "code",
   "execution_count": 285,
   "metadata": {},
   "outputs": [],
   "source": [
    "A = np.array([[0.8, 0.5, -0.3, 0.3], [-0.9, -0.2, -0.7, -0.7], [-0.1, 0, -0.2, 0.9], [0.4, -0.3, 0.8, 0.4]])\n",
    "slider_size = 2\n",
    "n = A.shape[0] - slider_size + 1\n",
    "B = np.zeros((n, n))"
   ]
  },
  {
   "cell_type": "code",
   "execution_count": 286,
   "metadata": {},
   "outputs": [
    {
     "name": "stdout",
     "output_type": "stream",
     "text": [
      "0.8\n",
      "0.5\n",
      "-0.3\n",
      "-0.9\n",
      "-0.2\n",
      "-0.7\n",
      "-0.1\n",
      "0.0\n",
      "-0.2\n"
     ]
    },
    {
     "data": {
      "text/plain": [
       "-1.0999999999999999"
      ]
     },
     "execution_count": 286,
     "metadata": {},
     "output_type": "execute_result"
    }
   ],
   "source": [
    "for i in range(0, n):\n",
    "    for j in range(0, n):\n",
    "\n",
    "        avg = np.mean(A[i:i+1, j:j+1])\n",
    "\n",
    "        print(avg)\n",
    "\n",
    "        B[i, j] = avg\n",
    "\n",
    "np.sum(B)"
   ]
  },
  {
   "cell_type": "code",
   "execution_count": 287,
   "metadata": {},
   "outputs": [
    {
     "data": {
      "text/plain": [
       "array([[ 0.8,  0.5, -0.3],\n",
       "       [-0.9, -0.2, -0.7],\n",
       "       [-0.1,  0. , -0.2]])"
      ]
     },
     "execution_count": 287,
     "metadata": {},
     "output_type": "execute_result"
    }
   ],
   "source": [
    "B"
   ]
  },
  {
   "cell_type": "code",
   "execution_count": 288,
   "metadata": {},
   "outputs": [
    {
     "data": {
      "text/plain": [
       "array([[ 0.8,  0.5],\n",
       "       [-0.9, -0.2]])"
      ]
     },
     "execution_count": 288,
     "metadata": {},
     "output_type": "execute_result"
    }
   ],
   "source": [
    "A[0:0+2, 0:0+2]"
   ]
  },
  {
   "cell_type": "code",
   "execution_count": 289,
   "metadata": {},
   "outputs": [],
   "source": [
    "output_shape = (A.shape[0] // 2, A.shape[1] // 2)\n",
    "B = np.zeros(output_shape)\n",
    "\n",
    "# Применяем пулинг 2x2 с усреднением\n",
    "for i in range(0, A.shape[0], 2):\n",
    "    for j in range(0, A.shape[1], 2):\n",
    "        B[i // 2, j // 2] = np.mean(A[i:i+2, j:j+2])"
   ]
  },
  {
   "cell_type": "code",
   "execution_count": 290,
   "metadata": {},
   "outputs": [
    {
     "data": {
      "text/plain": [
       "0.175"
      ]
     },
     "execution_count": 290,
     "metadata": {},
     "output_type": "execute_result"
    }
   ],
   "source": [
    "np.sum(B)"
   ]
  }
 ],
 "metadata": {
  "kernelspec": {
   "display_name": "base",
   "language": "python",
   "name": "python3"
  },
  "language_info": {
   "codemirror_mode": {
    "name": "ipython",
    "version": 3
   },
   "file_extension": ".py",
   "mimetype": "text/x-python",
   "name": "python",
   "nbconvert_exporter": "python",
   "pygments_lexer": "ipython3",
   "version": "3.10.9"
  }
 },
 "nbformat": 4,
 "nbformat_minor": 2
}
